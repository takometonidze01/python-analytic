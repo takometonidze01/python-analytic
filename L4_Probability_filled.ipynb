{
 "cells": [
  {
   "cell_type": "markdown",
   "id": "d3b1644e",
   "metadata": {},
   "source": [
    "### dice roll example - Law of Large Numbers "
   ]
  },
  {
   "cell_type": "code",
   "execution_count": null,
   "id": "40bcb4bd",
   "metadata": {},
   "outputs": [],
   "source": [
    "# dice roll - simulates rolling two six-sided dice until you get a roll of both dice showing a 1.\n",
    "import random\n",
    "total_count = 0\n",
    "\n",
    "while True:\n",
    "    total_count += 1\n",
    "    d1, d2 = random.randint(1,6), random.randint(1,6)\n",
    "    print('dice 1: ', d1, \"dice 2: \", d2)\n",
    "    if d1 ==  1 and d2 == 1: break\n",
    "\n",
    "print(\"Total count of dice rolls\", total_count)\n",
    "\n",
    "\n",
    "print(f\"probability is 1/{total_count:.0f}\")\n",
    "print(f\"percentage is {1/(total_count):.0%}\")\n"
   ]
  },
  {
   "cell_type": "code",
   "execution_count": null,
   "id": "53796fa0",
   "metadata": {},
   "outputs": [],
   "source": [
    "# dice roll - simulates rolling two six-sided dice until you get a roll of both dice showing a 1.\n",
    "# მოდელის გაშვება 100-ჯერ\n",
    "import random\n",
    "total_count = 0\n",
    "repeat_number = 100\n",
    "\n",
    "for i in range(repeat_number):\n",
    "    while True:\n",
    "        total_count += 1\n",
    "        d1, d2 = random.randint(1,6), random.randint(1,6)\n",
    "        print('dice 1: ', d1, \"dice 2: \", d2)\n",
    "        if d1 ==  1 and d2 == 1: break\n",
    "    print(\"Loop number: \", i+1)\n",
    "\n",
    "    print(\"Total count of dice rolls\", total_count)\n",
    "\n",
    "\n",
    "print(f\"probability is 1/{total_count/repeat_number:.0f}\")\n",
    "print(f\"percentage is {1/(total_count/repeat_number):.0%}\")"
   ]
  },
  {
   "cell_type": "markdown",
   "id": "c1d30fc9",
   "metadata": {},
   "source": [
    " ## Probability Calculation with Python"
   ]
  },
  {
   "cell_type": "markdown",
   "id": "3689f2e7",
   "metadata": {},
   "source": [
    "### kaggle dataset - US Health Insurance Dataset\n",
    "This dataset contains 1338 rows of insured data, where the Insurance charges are given against the following attributes of the insured: Age, Sex, BMI, Number of Children, Smoker and Region. There are no missing or undefined values in the dataset.\n",
    "Link: https://www.kaggle.com/datasets/teertha/ushealthinsurancedataset/\n",
    "This is a demonstration of how we could utilize Python to solve probability and statistical problems, covering a simple probability, conditional probability, continous variable, categorical variable, correlation coefficient and statistical testing problem."
   ]
  },
  {
   "cell_type": "code",
   "execution_count": 1,
   "id": "8b22ae93",
   "metadata": {},
   "outputs": [],
   "source": [
    "import numpy as np\n",
    "import pandas as pd\n",
    "import matplotlib.pyplot as plt\n",
    "import seaborn as sns\n",
    "import warnings\n",
    "\n",
    "from scipy.stats import norm"
   ]
  },
  {
   "cell_type": "code",
   "execution_count": 2,
   "id": "f649d09e",
   "metadata": {},
   "outputs": [],
   "source": [
    "pd.plotting.register_matplotlib_converters()\n",
    "# plt.style.use(\"seaborn-whitegrid\")\n",
    "pd.set_option(\"display.max_columns\", 500)\n",
    "warnings.filterwarnings(\"ignore\")"
   ]
  },
  {
   "cell_type": "code",
   "execution_count": 3,
   "id": "7b854bd0",
   "metadata": {},
   "outputs": [
    {
     "data": {
      "text/html": [
       "<div>\n",
       "<style scoped>\n",
       "    .dataframe tbody tr th:only-of-type {\n",
       "        vertical-align: middle;\n",
       "    }\n",
       "\n",
       "    .dataframe tbody tr th {\n",
       "        vertical-align: top;\n",
       "    }\n",
       "\n",
       "    .dataframe thead th {\n",
       "        text-align: right;\n",
       "    }\n",
       "</style>\n",
       "<table border=\"1\" class=\"dataframe\">\n",
       "  <thead>\n",
       "    <tr style=\"text-align: right;\">\n",
       "      <th></th>\n",
       "      <th>age</th>\n",
       "      <th>sex</th>\n",
       "      <th>bmi</th>\n",
       "      <th>children</th>\n",
       "      <th>smoker</th>\n",
       "      <th>region</th>\n",
       "      <th>charges</th>\n",
       "    </tr>\n",
       "  </thead>\n",
       "  <tbody>\n",
       "    <tr>\n",
       "      <th>0</th>\n",
       "      <td>19</td>\n",
       "      <td>female</td>\n",
       "      <td>27.900</td>\n",
       "      <td>0</td>\n",
       "      <td>yes</td>\n",
       "      <td>southwest</td>\n",
       "      <td>16884.92400</td>\n",
       "    </tr>\n",
       "    <tr>\n",
       "      <th>1</th>\n",
       "      <td>18</td>\n",
       "      <td>male</td>\n",
       "      <td>33.770</td>\n",
       "      <td>1</td>\n",
       "      <td>no</td>\n",
       "      <td>southeast</td>\n",
       "      <td>1725.55230</td>\n",
       "    </tr>\n",
       "    <tr>\n",
       "      <th>2</th>\n",
       "      <td>28</td>\n",
       "      <td>male</td>\n",
       "      <td>33.000</td>\n",
       "      <td>3</td>\n",
       "      <td>no</td>\n",
       "      <td>southeast</td>\n",
       "      <td>4449.46200</td>\n",
       "    </tr>\n",
       "    <tr>\n",
       "      <th>3</th>\n",
       "      <td>33</td>\n",
       "      <td>male</td>\n",
       "      <td>22.705</td>\n",
       "      <td>0</td>\n",
       "      <td>no</td>\n",
       "      <td>northwest</td>\n",
       "      <td>21984.47061</td>\n",
       "    </tr>\n",
       "    <tr>\n",
       "      <th>4</th>\n",
       "      <td>32</td>\n",
       "      <td>male</td>\n",
       "      <td>28.880</td>\n",
       "      <td>0</td>\n",
       "      <td>no</td>\n",
       "      <td>northwest</td>\n",
       "      <td>3866.85520</td>\n",
       "    </tr>\n",
       "  </tbody>\n",
       "</table>\n",
       "</div>"
      ],
      "text/plain": [
       "   age     sex     bmi  children smoker     region      charges\n",
       "0   19  female  27.900         0    yes  southwest  16884.92400\n",
       "1   18    male  33.770         1     no  southeast   1725.55230\n",
       "2   28    male  33.000         3     no  southeast   4449.46200\n",
       "3   33    male  22.705         0     no  northwest  21984.47061\n",
       "4   32    male  28.880         0     no  northwest   3866.85520"
      ]
     },
     "execution_count": 3,
     "metadata": {},
     "output_type": "execute_result"
    }
   ],
   "source": [
    "df = pd.read_csv(\"insurance.csv\")\n",
    "df.head()"
   ]
  },
  {
   "cell_type": "code",
   "execution_count": 4,
   "id": "457d3f32",
   "metadata": {},
   "outputs": [
    {
     "data": {
      "text/plain": [
       "(1338, 7)"
      ]
     },
     "execution_count": 4,
     "metadata": {},
     "output_type": "execute_result"
    }
   ],
   "source": [
    "df.shape"
   ]
  },
  {
   "cell_type": "code",
   "execution_count": 5,
   "id": "c3488842",
   "metadata": {},
   "outputs": [
    {
     "data": {
      "text/plain": [
       "age         0\n",
       "sex         0\n",
       "bmi         0\n",
       "children    0\n",
       "smoker      0\n",
       "region      0\n",
       "charges     0\n",
       "dtype: int64"
      ]
     },
     "execution_count": 5,
     "metadata": {},
     "output_type": "execute_result"
    }
   ],
   "source": [
    "df.isnull().sum()"
   ]
  },
  {
   "cell_type": "code",
   "execution_count": 6,
   "id": "4549e1d2",
   "metadata": {
    "scrolled": true
   },
   "outputs": [
    {
     "data": {
      "text/html": [
       "<div>\n",
       "<style scoped>\n",
       "    .dataframe tbody tr th:only-of-type {\n",
       "        vertical-align: middle;\n",
       "    }\n",
       "\n",
       "    .dataframe tbody tr th {\n",
       "        vertical-align: top;\n",
       "    }\n",
       "\n",
       "    .dataframe thead th {\n",
       "        text-align: right;\n",
       "    }\n",
       "</style>\n",
       "<table border=\"1\" class=\"dataframe\">\n",
       "  <thead>\n",
       "    <tr style=\"text-align: right;\">\n",
       "      <th></th>\n",
       "      <th>count</th>\n",
       "      <th>mean</th>\n",
       "      <th>std</th>\n",
       "      <th>min</th>\n",
       "      <th>25%</th>\n",
       "      <th>50%</th>\n",
       "      <th>75%</th>\n",
       "      <th>max</th>\n",
       "    </tr>\n",
       "  </thead>\n",
       "  <tbody>\n",
       "    <tr>\n",
       "      <th>age</th>\n",
       "      <td>1338.0</td>\n",
       "      <td>39.207025</td>\n",
       "      <td>14.049960</td>\n",
       "      <td>18.0000</td>\n",
       "      <td>27.00000</td>\n",
       "      <td>39.000</td>\n",
       "      <td>51.000000</td>\n",
       "      <td>64.00000</td>\n",
       "    </tr>\n",
       "    <tr>\n",
       "      <th>bmi</th>\n",
       "      <td>1338.0</td>\n",
       "      <td>30.663397</td>\n",
       "      <td>6.098187</td>\n",
       "      <td>15.9600</td>\n",
       "      <td>26.29625</td>\n",
       "      <td>30.400</td>\n",
       "      <td>34.693750</td>\n",
       "      <td>53.13000</td>\n",
       "    </tr>\n",
       "    <tr>\n",
       "      <th>children</th>\n",
       "      <td>1338.0</td>\n",
       "      <td>1.094918</td>\n",
       "      <td>1.205493</td>\n",
       "      <td>0.0000</td>\n",
       "      <td>0.00000</td>\n",
       "      <td>1.000</td>\n",
       "      <td>2.000000</td>\n",
       "      <td>5.00000</td>\n",
       "    </tr>\n",
       "    <tr>\n",
       "      <th>charges</th>\n",
       "      <td>1338.0</td>\n",
       "      <td>13270.422265</td>\n",
       "      <td>12110.011237</td>\n",
       "      <td>1121.8739</td>\n",
       "      <td>4740.28715</td>\n",
       "      <td>9382.033</td>\n",
       "      <td>16639.912515</td>\n",
       "      <td>63770.42801</td>\n",
       "    </tr>\n",
       "  </tbody>\n",
       "</table>\n",
       "</div>"
      ],
      "text/plain": [
       "           count          mean           std        min         25%       50%  \\\n",
       "age       1338.0     39.207025     14.049960    18.0000    27.00000    39.000   \n",
       "bmi       1338.0     30.663397      6.098187    15.9600    26.29625    30.400   \n",
       "children  1338.0      1.094918      1.205493     0.0000     0.00000     1.000   \n",
       "charges   1338.0  13270.422265  12110.011237  1121.8739  4740.28715  9382.033   \n",
       "\n",
       "                   75%          max  \n",
       "age          51.000000     64.00000  \n",
       "bmi          34.693750     53.13000  \n",
       "children      2.000000      5.00000  \n",
       "charges   16639.912515  63770.42801  "
      ]
     },
     "execution_count": 6,
     "metadata": {},
     "output_type": "execute_result"
    }
   ],
   "source": [
    "df.describe().transpose()"
   ]
  },
  {
   "cell_type": "markdown",
   "id": "688e84f3",
   "metadata": {},
   "source": [
    "### Probability of Categorical Variable"
   ]
  },
  {
   "cell_type": "markdown",
   "id": "b02e272e",
   "metadata": {},
   "source": [
    "$$P(E)=\\frac{\\text{number of event E occurs in a trial}}{\\text{total trials}}$$"
   ]
  },
  {
   "cell_type": "code",
   "execution_count": 7,
   "id": "34c98f86",
   "metadata": {},
   "outputs": [
    {
     "data": {
      "text/plain": [
       "0.5052316890881914"
      ]
     },
     "execution_count": 7,
     "metadata": {},
     "output_type": "execute_result"
    }
   ],
   "source": [
    "male_data = df[df[\"sex\"] == \"male\"][\"sex\"].count()\n",
    "total_data = df[\"sex\"].count()\n",
    "\n",
    "probability = male_data/total_data\n",
    "probability\n"
   ]
  },
  {
   "cell_type": "markdown",
   "id": "c6d78716",
   "metadata": {},
   "source": [
    "$$\n",
    "\\begin{align*}\n",
    "P(A \\ | \\ B) &= \\cfrac{n(A \\cap B)}{n(B)} &= \\cfrac{\\text{(number of event A and B occur in a trial)}}{\\text{(total number of event B)}}\n",
    "\\end{align*}\n",
    "$$"
   ]
  },
  {
   "cell_type": "code",
   "execution_count": 8,
   "id": "c2e15ad6",
   "metadata": {},
   "outputs": [
    {
     "data": {
      "text/plain": [
       "0.2116788321167883"
      ]
     },
     "execution_count": 8,
     "metadata": {},
     "output_type": "execute_result"
    }
   ],
   "source": [
    "filter_clause = (df[\"smoker\"] == \"yes\") & (df[\"region\"] == \"northwest\")\n",
    "smoker_in_northwest = df[filter_clause][\"smoker\"].count()\n",
    "total_smoker = df[df[\"smoker\"] == \"yes\"][\"smoker\"].count()\n",
    "\n",
    "conditional_probability = smoker_in_northwest/total_smoker\n",
    "conditional_probability"
   ]
  },
  {
   "cell_type": "markdown",
   "id": "94cd3c57",
   "metadata": {},
   "source": [
    "### Probability of Continous Variable"
   ]
  },
  {
   "cell_type": "code",
   "execution_count": 9,
   "id": "9d3a1f5f",
   "metadata": {},
   "outputs": [
    {
     "data": {
      "image/png": "[encoded data removed]",
      "text/plain": [
       "<Figure size 1600x1000 with 3 Axes>"
      ]
     },
     "metadata": {},
     "output_type": "display_data"
    }
   ],
   "source": [
    "fig = plt.figure(figsize=(16, 10))\n",
    "\n",
    "plt.subplot(221)\n",
    "ax1 = sns.distplot(df[\"age\"])\n",
    "plt.title(f\"Distribution of Variable Age\")\n",
    "\n",
    "plt.subplot(222)\n",
    "ax2 = sns.distplot(df[\"bmi\"])\n",
    "plt.title(f\"Distribution of Variable BMI\")\n",
    "\n",
    "plt.subplot(223)\n",
    "ax3 = sns.distplot(df[\"charges\"])\n",
    "plt.title(f\"Distribution of Variable Charges\")\n",
    "\n",
    "plt.show()"
   ]
  },
  {
   "cell_type": "code",
   "execution_count": 10,
   "id": "7d51e584",
   "metadata": {},
   "outputs": [
    {
     "data": {
      "text/plain": [
       "0.5225042071304686"
      ]
     },
     "execution_count": 10,
     "metadata": {},
     "output_type": "execute_result"
    }
   ],
   "source": [
    "# Cumulative distribution function (cdf)\n",
    "# cdf(x, loc=0, scale=1)\n",
    "age_x = 40\n",
    "age_mean = df[\"age\"].mean()\n",
    "age_std_dev = df[\"age\"].std()\n",
    "age_probability = norm.cdf(age_x, age_mean, age_std_dev)\n",
    "age_probability"
   ]
  },
  {
   "cell_type": "code",
   "execution_count": 11,
   "id": "6b92d0d6",
   "metadata": {},
   "outputs": [
    {
     "data": {
      "text/plain": [
       "0.17652183661410764"
      ]
     },
     "execution_count": 11,
     "metadata": {},
     "output_type": "execute_result"
    }
   ],
   "source": [
    "bmi_x = 25\n",
    "bmi_mean = df[\"bmi\"].mean()\n",
    "bmi_std_dev = df[\"bmi\"].std()\n",
    "bmi_probability = norm.cdf(bmi_x, bmi_mean, bmi_std_dev)\n",
    "bmi_probability"
   ]
  },
  {
   "cell_type": "code",
   "execution_count": 12,
   "id": "4df3f0f7",
   "metadata": {},
   "outputs": [
    {
     "data": {
      "text/plain": [
       "0.8234781633858923"
      ]
     },
     "execution_count": 12,
     "metadata": {},
     "output_type": "execute_result"
    }
   ],
   "source": [
    "1 - bmi_probability"
   ]
  },
  {
   "cell_type": "code",
   "execution_count": null,
   "id": "d5a778ed",
   "metadata": {},
   "outputs": [],
   "source": []
  },
  {
   "cell_type": "markdown",
   "id": "277a24a5",
   "metadata": {},
   "source": [
    "# Random Variables"
   ]
  },
  {
   "cell_type": "markdown",
   "id": "7eeee0bb",
   "metadata": {},
   "source": [
    "## Discrete Random Variable"
   ]
  },
  {
   "cell_type": "markdown",
   "id": "05160a48",
   "metadata": {},
   "source": [
    "### Definition of a Random Variable"
   ]
  },
  {
   "cell_type": "markdown",
   "id": "3b92f383",
   "metadata": {},
   "source": [
    "- Random variable $X$: mapping from sample space $S$ to a real line $R$\n",
    "- Numerical value $X(w)$ mapped to each outcome $w$ of a particular experiment"
   ]
  },
  {
   "cell_type": "markdown",
   "id": "e30e8f26",
   "metadata": {},
   "source": [
    "### Probability Mass Function"
   ]
  },
  {
   "cell_type": "markdown",
   "id": "5dad0b38",
   "metadata": {},
   "source": [
    "- Probability Mass Function (p.m.f.): set of probability values $p_i$ assigned to each value taken by the discrete random variable $x_i$\n",
    "- $ 0 \\leq p_i \\leq 1 \\text{ and } \\sum_i p_i = 1$\n",
    "- Probability: $P(X = x_i) = p_i$"
   ]
  },
  {
   "cell_type": "markdown",
   "id": "053aba41",
   "metadata": {},
   "source": [
    "### Cumulative Distribution Function"
   ]
  },
  {
   "cell_type": "markdown",
   "id": "aa54cb63",
   "metadata": {},
   "source": [
    "- Cumulative Distribution Function (CDF): $F(x) = P(X \\leq x)$"
   ]
  },
  {
   "cell_type": "markdown",
   "id": "82c2de29",
   "metadata": {},
   "source": [
    "## Continuous Random Variables"
   ]
  },
  {
   "cell_type": "markdown",
   "id": "36276c9d",
   "metadata": {},
   "source": [
    "### Probability Density Function"
   ]
  },
  {
   "cell_type": "markdown",
   "id": "87a8d07c",
   "metadata": {},
   "source": [
    "- Probability Density Function (pdf): \n",
    "\\begin{equation}\n",
    "    f(x) \\geq 0\n",
    "\\end{equation}\n",
    "\\begin{equation}\n",
    "    \\int_{-\\infty}^{\\infty} f(x) dx = 1\n",
    "\\end{equation}\n"
   ]
  },
  {
   "cell_type": "markdown",
   "id": "e0d3fbae",
   "metadata": {},
   "source": [
    "### Cumulative Distribution Function\n"
   ]
  },
  {
   "cell_type": "markdown",
   "id": "69be9593",
   "metadata": {},
   "source": [
    "- Cumulative Distribution Function for continuous Random Variables:\n",
    "    - $F(x) = \\int_{-\\infty}^x f(y) dy$\n",
    "    - $f(x) = \\frac{dF(x)}{dx}$\n",
    "    - $P(a < X < b) = F(b) - F(a)$\n",
    "    - $P(a < X < b) = P(a \\leq X \\leq b) = P(a \\leq X < b) = P(a < X \\leq b)$"
   ]
  },
  {
   "cell_type": "markdown",
   "id": "782b002e",
   "metadata": {},
   "source": [
    "## მათემატიკური ლოდინი - Expectation of a Random Variable"
   ]
  },
  {
   "cell_type": "markdown",
   "id": "f6b8b29c",
   "metadata": {},
   "source": [
    "### Expectations of Discrete Random Variables"
   ]
  },
  {
   "cell_type": "markdown",
   "id": "7a1fb930",
   "metadata": {},
   "source": [
    "- Expectation of a discrete random variable $X$ with p.m.f. $p$:\n",
    "\\begin{equation}\n",
    "    E(X) = \\sum_i p_i x_i\n",
    "\\end{equation}\n",
    "\n"
   ]
  },
  {
   "cell_type": "code",
   "execution_count": null,
   "id": "b3ed6d08",
   "metadata": {},
   "outputs": [],
   "source": [
    "# Calculate the expectation of Discrete variables\n",
    "\n",
    "# Input\n",
    "x = [1, 2, 3, 4, 5]\n",
    "p = [0.2, 0.2, 0.2, 0.2, 0.2]\n",
    "\n",
    "# Cal\n",
    "exp = 0\n",
    "for i, j in zip(x, p):\n",
    "    exp += i * j\n",
    "\n",
    "# Output\n",
    "print('Expectation: {}'.format(exp))"
   ]
  },
  {
   "cell_type": "code",
   "execution_count": null,
   "id": "b9dc05d4",
   "metadata": {},
   "outputs": [],
   "source": [
    "# rv_discrete() is a base class to construct specific distribution classes and instances for discrete random variables. \n",
    "# It can also be used to construct an arbitrary distribution defined by a list of support points and corresponding probabilities.\n",
    "from scipy.stats import rv_discrete\n",
    "\n",
    "x = [1, 2, 3, 4, 5]\n",
    "p = [0.2, 0.2, 0.2, 0.2, 0.2]\n",
    "# x = [10, 20, 30]\n",
    "# p = [0.2, 0.3, 0.5]\n",
    "distribution = rv_discrete(values=(x, p))\n",
    "print(\"Expected value: \", distribution.expect())"
   ]
  },
  {
   "cell_type": "markdown",
   "id": "6d34e64c",
   "metadata": {},
   "source": [
    " ### Discrete Probability Distributions"
   ]
  },
  {
   "cell_type": "markdown",
   "id": "68e1fcde",
   "metadata": {},
   "source": [
    "## The Binomial Distribution"
   ]
  },
  {
   "cell_type": "markdown",
   "id": "406cedcf",
   "metadata": {},
   "source": [
    "### Bernoulli Random Variables"
   ]
  },
  {
   "cell_type": "markdown",
   "id": "cb2bb8c1",
   "metadata": {},
   "source": [
    "- Modeling of a process with two possible outcomes, labeled 0 and 1\n",
    "- Random variable defined by the parameter $p$, $0 \\leq p \\leq 1$, which is the probability that the outcome is 1\n",
    "- The Bernoulli distribution $Ber(p)$ is:\n",
    "\\begin{equation}\n",
    "    f(x;p) = p^x(1-p)^{1-x}, \\text{   } x= 0,1\n",
    "\\end{equation}\n",
    "- $E(X) = p$\n",
    "- $Var(X) = p(1-p)$"
   ]
  },
  {
   "cell_type": "code",
   "execution_count": null,
   "id": "3e9096ec",
   "metadata": {},
   "outputs": [],
   "source": [
    "from scipy.stats import bernoulli\n",
    "n = 4\n",
    "p = 0.3 # probability of success\n",
    "print(\"Mean: \", bernoulli.mean(p))\n",
    "print(\"Variance: \", bernoulli.var(p))"
   ]
  },
  {
   "cell_type": "markdown",
   "id": "d7b97d06",
   "metadata": {},
   "source": [
    "### Definition of the Binomial Distribution"
   ]
  },
  {
   "cell_type": "markdown",
   "id": "5b4a6ff8",
   "metadata": {},
   "source": [
    "- Let's consider and experiment consisting of $n$ Bernoulli trials $X_1, \\cdots, X_n$ independent and with a constant probability $p$ of success\n",
    "- Then the total number of successes $X = \\sum_{i=1}^m X_i$ is a random variable whose Binomial distribution with parameters $n$ (number of trials) and $p$ is:\n",
    "\\begin{equation}\n",
    "    X \\sim B(n,p)\n",
    "\\end{equation}"
   ]
  },
  {
   "cell_type": "markdown",
   "id": "ba85198a",
   "metadata": {},
   "source": [
    "- Probability mass function of a $B(n, p)$ random variable is:\n",
    "\\begin{equation}\n",
    "    f(x;n,p) = \\binom{n}{x}p^x(1-p)^{n-x}, \\text{   } x= 0,1, \\cdots, n\n",
    "\\end{equation}\n",
    "- $E(X) = np$\n",
    "- $Var(X) = np(1-p)$"
   ]
  },
  {
   "cell_type": "code",
   "execution_count": null,
   "id": "379bbf67",
   "metadata": {
    "scrolled": false
   },
   "outputs": [],
   "source": [
    "from scipy.stats import binom\n",
    "\n",
    "# Parameters\n",
    "n = 10 # number of trials\n",
    "x = 7 # number of successes\n",
    "p = 0.2 # probability of success\n",
    "\n",
    "print(\"Mean: \", binom.mean(n, p))\n",
    "print(\"Variance: \", binom.var(n, p))\n",
    "print(\"Probability mass function: \", binom.pmf(x, n, p))\n",
    "print(\"Cumulative distribution function: \", binom.cdf(x,n,p))"
   ]
  }
 ],
 "metadata": {
  "kernelspec": {
   "display_name": "Python 3 (ipykernel)",
   "language": "python",
   "name": "python3"
  },
  "language_info": {
   "codemirror_mode": {
    "name": "ipython",
    "version": 3
   },
   "file_extension": ".py",
   "mimetype": "text/x-python",
   "name": "python",
   "nbconvert_exporter": "python",
   "pygments_lexer": "ipython3",
   "version": "3.10.9"
  }
 },
 "nbformat": 4,
 "nbformat_minor": 5
}
