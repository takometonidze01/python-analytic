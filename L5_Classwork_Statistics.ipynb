{
 "cells": [
  {
   "cell_type": "markdown",
   "id": "932d8c61",
   "metadata": {},
   "source": [
    "## Descriptive Statistics"
   ]
  },
  {
   "cell_type": "markdown",
   "id": "3689f2e7",
   "metadata": {},
   "source": [
    "### kaggle dataset - US Health Insurance Dataset\n",
    "This dataset contains 1338 rows of insured data, where the Insurance charges are given against the following attributes of the insured: Age, Sex, BMI, Number of Children, Smoker and Region. There are no missing or undefined values in the dataset.\n",
    "Link: https://www.kaggle.com/datasets/teertha/ushealthinsurancedataset/\n",
    "This is a demonstration of how we could utilize Python to solve probability and statistical problems, covering a simple probability, conditional probability, continous variable, categorical variable, correlation coefficient and statistical testing problem."
   ]
  },
  {
   "cell_type": "code",
   "execution_count": 1,
   "id": "8b22ae93",
   "metadata": {},
   "outputs": [],
   "source": [
    "import numpy as np\n",
    "import pandas as pd\n",
    "import matplotlib.pyplot as plt\n",
    "import seaborn as sns\n",
    "import warnings\n",
    "\n",
    "from scipy.stats import norm"
   ]
  },
  {
   "cell_type": "code",
   "execution_count": 2,
   "id": "f649d09e",
   "metadata": {},
   "outputs": [],
   "source": [
    "# pd.plotting.register_matplotlib_converters()\n",
    "# # plt.style.use(\"seaborn-whitegrid\")\n",
    "# pd.set_option(\"display.max_columns\", 500)\n",
    "# warnings.filterwarnings(\"ignore\")"
   ]
  },
  {
   "cell_type": "code",
   "execution_count": 3,
   "id": "7b854bd0",
   "metadata": {},
   "outputs": [
    {
     "data": {
      "text/html": [
       "<div>\n",
       "<style scoped>\n",
       "    .dataframe tbody tr th:only-of-type {\n",
       "        vertical-align: middle;\n",
       "    }\n",
       "\n",
       "    .dataframe tbody tr th {\n",
       "        vertical-align: top;\n",
       "    }\n",
       "\n",
       "    .dataframe thead th {\n",
       "        text-align: right;\n",
       "    }\n",
       "</style>\n",
       "<table border=\"1\" class=\"dataframe\">\n",
       "  <thead>\n",
       "    <tr style=\"text-align: right;\">\n",
       "      <th></th>\n",
       "      <th>age</th>\n",
       "      <th>sex</th>\n",
       "      <th>bmi</th>\n",
       "      <th>children</th>\n",
       "      <th>smoker</th>\n",
       "      <th>region</th>\n",
       "      <th>charges</th>\n",
       "    </tr>\n",
       "  </thead>\n",
       "  <tbody>\n",
       "    <tr>\n",
       "      <th>0</th>\n",
       "      <td>19</td>\n",
       "      <td>female</td>\n",
       "      <td>27.900</td>\n",
       "      <td>0</td>\n",
       "      <td>yes</td>\n",
       "      <td>southwest</td>\n",
       "      <td>16884.92400</td>\n",
       "    </tr>\n",
       "    <tr>\n",
       "      <th>1</th>\n",
       "      <td>18</td>\n",
       "      <td>male</td>\n",
       "      <td>33.770</td>\n",
       "      <td>1</td>\n",
       "      <td>no</td>\n",
       "      <td>southeast</td>\n",
       "      <td>1725.55230</td>\n",
       "    </tr>\n",
       "    <tr>\n",
       "      <th>2</th>\n",
       "      <td>28</td>\n",
       "      <td>male</td>\n",
       "      <td>33.000</td>\n",
       "      <td>3</td>\n",
       "      <td>no</td>\n",
       "      <td>southeast</td>\n",
       "      <td>4449.46200</td>\n",
       "    </tr>\n",
       "    <tr>\n",
       "      <th>3</th>\n",
       "      <td>33</td>\n",
       "      <td>male</td>\n",
       "      <td>22.705</td>\n",
       "      <td>0</td>\n",
       "      <td>no</td>\n",
       "      <td>northwest</td>\n",
       "      <td>21984.47061</td>\n",
       "    </tr>\n",
       "    <tr>\n",
       "      <th>4</th>\n",
       "      <td>32</td>\n",
       "      <td>male</td>\n",
       "      <td>28.880</td>\n",
       "      <td>0</td>\n",
       "      <td>no</td>\n",
       "      <td>northwest</td>\n",
       "      <td>3866.85520</td>\n",
       "    </tr>\n",
       "  </tbody>\n",
       "</table>\n",
       "</div>"
      ],
      "text/plain": [
       "   age     sex     bmi  children smoker     region      charges\n",
       "0   19  female  27.900         0    yes  southwest  16884.92400\n",
       "1   18    male  33.770         1     no  southeast   1725.55230\n",
       "2   28    male  33.000         3     no  southeast   4449.46200\n",
       "3   33    male  22.705         0     no  northwest  21984.47061\n",
       "4   32    male  28.880         0     no  northwest   3866.85520"
      ]
     },
     "execution_count": 3,
     "metadata": {},
     "output_type": "execute_result"
    }
   ],
   "source": [
    "df = pd.read_csv(\"insurance.csv\")\n",
    "df.head()"
   ]
  },
  {
   "cell_type": "code",
   "execution_count": 4,
   "id": "4549e1d2",
   "metadata": {
    "scrolled": false
   },
   "outputs": [
    {
     "data": {
      "text/html": [
       "<div>\n",
       "<style scoped>\n",
       "    .dataframe tbody tr th:only-of-type {\n",
       "        vertical-align: middle;\n",
       "    }\n",
       "\n",
       "    .dataframe tbody tr th {\n",
       "        vertical-align: top;\n",
       "    }\n",
       "\n",
       "    .dataframe thead th {\n",
       "        text-align: right;\n",
       "    }\n",
       "</style>\n",
       "<table border=\"1\" class=\"dataframe\">\n",
       "  <thead>\n",
       "    <tr style=\"text-align: right;\">\n",
       "      <th></th>\n",
       "      <th>count</th>\n",
       "      <th>mean</th>\n",
       "      <th>std</th>\n",
       "      <th>min</th>\n",
       "      <th>25%</th>\n",
       "      <th>50%</th>\n",
       "      <th>75%</th>\n",
       "      <th>max</th>\n",
       "    </tr>\n",
       "  </thead>\n",
       "  <tbody>\n",
       "    <tr>\n",
       "      <th>age</th>\n",
       "      <td>1338.0</td>\n",
       "      <td>39.207025</td>\n",
       "      <td>14.049960</td>\n",
       "      <td>18.0000</td>\n",
       "      <td>27.00000</td>\n",
       "      <td>39.000</td>\n",
       "      <td>51.000000</td>\n",
       "      <td>64.00000</td>\n",
       "    </tr>\n",
       "    <tr>\n",
       "      <th>bmi</th>\n",
       "      <td>1338.0</td>\n",
       "      <td>30.663397</td>\n",
       "      <td>6.098187</td>\n",
       "      <td>15.9600</td>\n",
       "      <td>26.29625</td>\n",
       "      <td>30.400</td>\n",
       "      <td>34.693750</td>\n",
       "      <td>53.13000</td>\n",
       "    </tr>\n",
       "    <tr>\n",
       "      <th>children</th>\n",
       "      <td>1338.0</td>\n",
       "      <td>1.094918</td>\n",
       "      <td>1.205493</td>\n",
       "      <td>0.0000</td>\n",
       "      <td>0.00000</td>\n",
       "      <td>1.000</td>\n",
       "      <td>2.000000</td>\n",
       "      <td>5.00000</td>\n",
       "    </tr>\n",
       "    <tr>\n",
       "      <th>charges</th>\n",
       "      <td>1338.0</td>\n",
       "      <td>13270.422265</td>\n",
       "      <td>12110.011237</td>\n",
       "      <td>1121.8739</td>\n",
       "      <td>4740.28715</td>\n",
       "      <td>9382.033</td>\n",
       "      <td>16639.912515</td>\n",
       "      <td>63770.42801</td>\n",
       "    </tr>\n",
       "  </tbody>\n",
       "</table>\n",
       "</div>"
      ],
      "text/plain": [
       "           count          mean           std        min         25%       50%  \\\n",
       "age       1338.0     39.207025     14.049960    18.0000    27.00000    39.000   \n",
       "bmi       1338.0     30.663397      6.098187    15.9600    26.29625    30.400   \n",
       "children  1338.0      1.094918      1.205493     0.0000     0.00000     1.000   \n",
       "charges   1338.0  13270.422265  12110.011237  1121.8739  4740.28715  9382.033   \n",
       "\n",
       "                   75%          max  \n",
       "age          51.000000     64.00000  \n",
       "bmi          34.693750     53.13000  \n",
       "children      2.000000      5.00000  \n",
       "charges   16639.912515  63770.42801  "
      ]
     },
     "execution_count": 4,
     "metadata": {},
     "output_type": "execute_result"
    }
   ],
   "source": [
    "df.describe().transpose()"
   ]
  },
  {
   "cell_type": "code",
   "execution_count": 5,
   "id": "136e12ef",
   "metadata": {},
   "outputs": [
    {
     "data": {
      "text/plain": [
       "<AxesSubplot:xlabel='age'>"
      ]
     },
     "execution_count": 5,
     "metadata": {},
     "output_type": "execute_result"
    },
    {
     "data": {
      "image/png": "[encoded data removed]",
      "text/plain": [
       "<Figure size 720x504 with 1 Axes>"
      ]
     },
     "metadata": {
      "needs_background": "light"
     },
     "output_type": "display_data"
    }
   ],
   "source": [
    "import matplotlib.pyplot as plt\n",
    "fig = plt.figure(figsize =(10, 7))\n",
    "# plt.boxplot(data)\n",
    "# plt.show()\n",
    "\n",
    "sns.boxplot(x = df['age'])\n",
    "sns.boxplot(data=df, x=\"age\")\n",
    "# plt.title('Monthly income of Gym members')\n",
    "# plt.show()"
   ]
  },
  {
   "cell_type": "code",
   "execution_count": 6,
   "id": "8ced8910",
   "metadata": {},
   "outputs": [
    {
     "data": {
      "image/png": "[encoded data removed]",
      "text/plain": [
       "<Figure size 720x504 with 1 Axes>"
      ]
     },
     "metadata": {
      "needs_background": "light"
     },
     "output_type": "display_data"
    }
   ],
   "source": [
    "\n",
    "# Import libraries\n",
    "import matplotlib.pyplot as plt\n",
    "import numpy as np\n",
    " \n",
    " \n",
    "# Creating dataset\n",
    "np.random.seed(10)\n",
    " \n",
    "data_1 = np.random.normal(100, 10, 200)\n",
    "data_2 = np.random.normal(90, 20, 200)\n",
    "data_3 = np.random.normal(80, 30, 200)\n",
    "data_4 = np.random.normal(70, 40, 200)\n",
    "data = [data_1, data_2, data_3, data_4]\n",
    " \n",
    "fig = plt.figure(figsize =(10, 7))\n",
    " \n",
    "# Creating axes instance\n",
    "ax = fig.add_axes([0, 0, 1, 1])\n",
    " \n",
    "# Creating plot\n",
    "bp = ax.boxplot(data)\n",
    " \n",
    "# show plot\n",
    "plt.show()"
   ]
  },
  {
   "cell_type": "code",
   "execution_count": 7,
   "id": "2e73e6ed",
   "metadata": {
    "scrolled": true
   },
   "outputs": [
    {
     "name": "stdout",
     "output_type": "stream",
     "text": [
      "7.727500000000001 12.260000000000002\n"
     ]
    }
   ],
   "source": [
    "\n",
    "# Python program to display variance of data groups\n",
    " \n",
    "# Import library\n",
    "import numpy as np\n",
    "import scipy.stats as stats\n",
    " \n",
    "# Creating data groups\n",
    "data_group1 = np.array([14, 15, 15, 16, 13, 8, 14,\n",
    "                        17, 16, 14, 19, 20, 21, 15,\n",
    "                        15, 16, 16, 13, 14, 12])\n",
    "data_group2 = np.array([15, 17, 14, 17, 14, 8, 12,\n",
    "                        19, 19, 14, 17, 22, 24, 16,\n",
    "                        13, 16, 13, 18, 15, 13])\n",
    " \n",
    "# Print the variance of both data groups\n",
    "print(np.var(data_group1), np.var(data_group2))"
   ]
  },
  {
   "cell_type": "markdown",
   "id": "4dabf8ce",
   "metadata": {},
   "source": [
    "#  t-test"
   ]
  },
  {
   "cell_type": "markdown",
   "id": "bbc3d9d5",
   "metadata": {},
   "source": [
    "### Very rarely we know the variance of the population. \n",
    "\n",
    "A common strategy to assess hypothesis is to conduct a t test. A t test can tell whether two groups have the same mean. \n",
    "A t test can be estimated for:\n",
    "* 1) One sample t test\n",
    "* 2) Two sample t test (including paired t test)\n",
    "\n",
    "We assume that the samples are randomly selected, independent and come from a normally distributed population with unknown but equal variances."
   ]
  },
  {
   "cell_type": "markdown",
   "id": "a2f63090",
   "metadata": {},
   "source": [
    "## One sample t test"
   ]
  },
  {
   "cell_type": "code",
   "execution_count": 8,
   "id": "8588f05c",
   "metadata": {},
   "outputs": [],
   "source": [
    "from scipy.stats             import ttest_1samp,ttest_ind, wilcoxon\n",
    "from statsmodels.stats.power import ttest_power\n",
    "import matplotlib.pyplot     as     plt"
   ]
  },
  {
   "cell_type": "markdown",
   "id": "3fa394b8",
   "metadata": {},
   "source": [
    "### Example 2\n",
    "\n",
    "Suppose that a doctor claims that 17 year olds have an average body temperature that is higher than the commonly accepted average human temperature of 98.6 degree F.\n",
    "\n",
    "A simple random statistical sample of 25 people, each of age 17 is selected. \n",
    "\n",
    "| ID | Temperature |\n",
    "| --- | ----- |\n",
    "| 1 | 98.56 | \n",
    "| 2 | 98.66 |\n",
    "| 3 | 97.54 |\n",
    "| 4 | 98.71 |\n",
    "| 5 | 99.22 |\n",
    "| 6 | 99.49 |\n",
    "| 7 | 98.14 |\n",
    "| 8 | 98.84 |\n",
    "| 9 | 99.28 |\n",
    "| 10 | 98.48 |\n",
    "| 11 | 98.88 |\n",
    "| 12 | 97.29 |\n",
    "| 13 | 98.88 |\n",
    "| 14 | 99.07 |\n",
    "| 15 | 98.81 |\n",
    "| 16 | 99.49 |\n",
    "| 17 | 98.57 |\n",
    "| 18 | 97.98 |\n",
    "| 19 | 97.75 |\n",
    "| 20 | 97.69 |\n",
    "| 21 | 99.28 |\n",
    "| 22 | 98.52 |\n",
    "| 23 | 98.82 |\n",
    "| 24 | 98.81 |\n",
    "| 25 | 98.22 |\n"
   ]
  },
  {
   "cell_type": "code",
   "execution_count": 9,
   "id": "f06a55b9",
   "metadata": {},
   "outputs": [],
   "source": [
    "temperature = np.array([98.56, 98.66, 97.54, 98.71, 99.22, 99.49, 98.14, 98.84,\\\n",
    "                         99.28, 98.48, 98.88, 97.29, 98.88, 99.07, 98.81, 99.49,\\\n",
    "                         98.57, 97.98, 97.75, 97.69, 99.28, 98.52, 98.82, 98.81, 98.22])            "
   ]
  },
  {
   "cell_type": "code",
   "execution_count": 10,
   "id": "a0a7c8ef",
   "metadata": {},
   "outputs": [
    {
     "name": "stdout",
     "output_type": "stream",
     "text": [
      "Mean is 98.6 Sd is 0.6\n"
     ]
    }
   ],
   "source": [
    "print('Mean is %2.1f Sd is %2.1f' % (temperature.mean(),np.std(temperature,ddof = 1)))"
   ]
  },
  {
   "cell_type": "markdown",
   "id": "dad0fa13",
   "metadata": {},
   "source": [
    "### Step 1: Define null and alternative hypotheses"
   ]
  },
  {
   "cell_type": "markdown",
   "id": "7b3947bc",
   "metadata": {},
   "source": [
    "In testing whether 17 year olds have an average body temperature that is higher than 98.6 deg F,the null hypothesis states that mean bdy temperature, $\\mu$ equals 98.6. The alternative hypthesis states that the mean body temprature, $\\mu$ is greater  than 98.6.\n",
    "\n",
    "* $H_0$: $\\mu$ <= 98.6\n",
    "* $H_A$: $\\mu$ > 98.6"
   ]
  },
  {
   "cell_type": "markdown",
   "id": "73a3107a",
   "metadata": {},
   "source": [
    "### Step 2: Decide the significance level"
   ]
  },
  {
   "cell_type": "markdown",
   "id": "7eae43e7",
   "metadata": {},
   "source": [
    "Here we select $\\alpha$ = 0.05 and it is given that n, sample size = 25."
   ]
  },
  {
   "cell_type": "markdown",
   "id": "c710c267",
   "metadata": {},
   "source": [
    "### Step 3: Identify the test statistic"
   ]
  },
  {
   "cell_type": "markdown",
   "id": "bbd56e83",
   "metadata": {},
   "source": [
    "We do not know the population standard deviation and the sample is not a large sample, n < 30. So you use the t distribution and the $t_STAT$ test statistic."
   ]
  },
  {
   "cell_type": "markdown",
   "id": "c229956a",
   "metadata": {},
   "source": [
    "### Step 4: Calculate the p - value and test statistic"
   ]
  },
  {
   "cell_type": "markdown",
   "id": "73004863",
   "metadata": {},
   "source": [
    "**scipy.stats.ttest_1samp calculates the t test for the mean of one sample given the sample observations and  the expected value in the null hypothesis. This function returns t statistic and two-tailed p value.**"
   ]
  },
  {
   "cell_type": "code",
   "execution_count": 11,
   "id": "58645a4a",
   "metadata": {},
   "outputs": [],
   "source": [
    "t_statistic, p_value = ttest_1samp(temperature, 98.9)"
   ]
  },
  {
   "cell_type": "code",
   "execution_count": 12,
   "id": "ad80f447",
   "metadata": {},
   "outputs": [
    {
     "name": "stdout",
     "output_type": "stream",
     "text": [
      "-2.507394613271926 0.019333111622388346\n"
     ]
    }
   ],
   "source": [
    "print(t_statistic, p_value)"
   ]
  },
  {
   "cell_type": "markdown",
   "id": "621c7e74",
   "metadata": {},
   "source": [
    "### Step 5 Decide to reject or accept null hypothesis"
   ]
  },
  {
   "cell_type": "markdown",
   "id": "f49d68c1",
   "metadata": {},
   "source": [
    "In this example, p value is 0.0193 and it is less than 5% level of significance\n",
    "\n",
    "So the statistical decision is to reject the null hypothesis at 5% level of significance.\n",
    "\n",
    "### So there is sufficient evidence  to prove that 17 year olds have an average body temperature that is higher than the commonly accepted average human temperature of 98.6 degree F."
   ]
  },
  {
   "cell_type": "code",
   "execution_count": null,
   "id": "038573b3",
   "metadata": {},
   "outputs": [],
   "source": []
  },
  {
   "cell_type": "markdown",
   "id": "8eed8bdb",
   "metadata": {},
   "source": [
    "## Two sample T-Test in Python\n",
    "Let us consider an example, we are given two-sample data, each containing heights of 15 students of a class. We need to check whether two different class students have the same mean height. There are three ways to conduct a two-sample T-Test in Python. \n",
    "\n",
    "Method 1: Using Scipy library\n",
    "Scipy stands for scientific python and as the name implies it is a scientific python library and it uses Numpy under the cover. This library provides a variety of functions that can be quite useful in data science. Firstly, let’s create the sample data. Now let’s perform two sample T-Test. For this purpose, we have ttest_ind() function in Python.\n",
    "\n",
    "Syntax: ttest_ind(data_group1, data_group2, equal_var=True/False)\n",
    "\n",
    "Here,\n",
    "\n",
    "data_group1: First data group\n",
    "data_group2: Second data group\n",
    "equal_var = “True”: The standard independent two sample t-test will be conducted by taking into consideration the equal population variances.\n",
    "equal_var = “False”: The Welch’s t-test will be conducted by not taking into consideration the equal population variances.\n"
   ]
  },
  {
   "cell_type": "code",
   "execution_count": 13,
   "id": "188da284",
   "metadata": {},
   "outputs": [
    {
     "data": {
      "text/plain": [
       "Ttest_indResult(statistic=-0.6337397070250238, pvalue=0.5300471010405257)"
      ]
     },
     "execution_count": 13,
     "metadata": {},
     "output_type": "execute_result"
    }
   ],
   "source": [
    "# Creating data groups\n",
    "data_group1 = np.array([14, 15, 15, 16, 13, 8, 14, \n",
    "                        17, 16, 14, 19, 20, 21, 15,\n",
    "                        15, 16, 16, 13, 14, 12])\n",
    " \n",
    "data_group2 = np.array([15, 17, 14, 17, 14, 8, 12, \n",
    "                        19, 19, 14, 17, 22, 24, 16, \n",
    "                        13, 16, 13, 18, 15, 13])\n",
    " \n",
    "# Perform the two sample t-test with equal variances\n",
    "stats.ttest_ind(a=data_group1, b=data_group2, equal_var=True)"
   ]
  },
  {
   "cell_type": "markdown",
   "id": "1937bf32",
   "metadata": {},
   "source": [
    "### Analyzing the result:\n",
    "\n",
    "Two sample t-test has the following hypothesis:\n",
    "\n",
    "H0 => µ1 = µ2 (population mean of dataset1 is equal to dataset2)\n",
    "\n",
    "HA => µ1 ≠µ2 (population mean of dataset1 is different from dataset2)\n",
    "\n",
    "Here, since the p-value (0.53004) is greater than alpha = 0.05 so we cannot reject the null hypothesis of the test. We do not have sufficient evidence to say that the mean height of students between the two data groups is different."
   ]
  }
 ],
 "metadata": {
  "kernelspec": {
   "display_name": "Python 3",
   "language": "python",
   "name": "python3"
  },
  "language_info": {
   "codemirror_mode": {
    "name": "ipython",
    "version": 3
   },
   "file_extension": ".py",
   "mimetype": "text/x-python",
   "name": "python",
   "nbconvert_exporter": "python",
   "pygments_lexer": "ipython3",
   "version": "3.8.8"
  }
 },
 "nbformat": 4,
 "nbformat_minor": 5
}
